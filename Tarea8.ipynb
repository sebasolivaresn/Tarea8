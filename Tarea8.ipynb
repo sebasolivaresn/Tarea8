{
 "metadata": {
  "name": "Untitled0"
 }, 
 "nbformat": 2, 
 "worksheets": [
  {
   "cells": [
    {
     "cell_type": "code", 
     "collapsed": false, 
     "input": [
      "%pylab inline", 
      "import numpy as np"
     ], 
     "language": "python", 
     "outputs": [
      {
       "output_type": "stream", 
       "stream": "stdout", 
       "text": [
        "", 
        "Welcome to pylab, a matplotlib-based Python environment [backend: module://IPython.zmq.pylab.backend_inline].", 
        "For more information, type 'help(pylab)'."
       ]
      }
     ], 
     "prompt_number": 2
    }, 
    {
     "cell_type": "code", 
     "collapsed": true, 
     "input": [
      "def derivada (t,P,alpha,beta,S0,K1,K2):", 
      "    der = (alpha*(S0-P))/(K1+S0-P) - (beta*P)/(K2 + P)", 
      "    return der", 
      "", 
      "def solucion (alpha,beta,S0,K1,K2):", 
      "    h=0.5", 
      "    n_puntos = 60", 
      "    t=zeros(n_puntos)", 
      "    P=zeros(n_puntos)", 
      "    t[0] = 0.0", 
      "    P[0] = 0.0", 
      "    for i in range (1,n_puntos):", 
      "        m1 = derivada(t[i-1],P[i-1],alpha,beta,S0,K1,K2)", 
      "        ", 
      "        #first step", 
      "        t1 = t[i-1] + (h/2.0)", 
      "        P1 = P[i-1] + (h/2.0) * m1", 
      "        m2 = derivada(t1, P1, alpha,beta,S0,K1,K2)", 
      "        t[i] = t[i-1] + h", 
      "        P[i] = P[i-1] + h*p_prima", 
      "        plot(t,P)", 
      ""
     ], 
     "language": "python", 
     "outputs": [], 
     "prompt_number": 8
    }, 
    {
     "cell_type": "code", 
     "collapsed": false, 
     "input": [
      "solucion(0,0,30,70,0.751)"
     ], 
     "language": "python", 
     "outputs": [
      {
       "output_type": "display_data", 
       "png": "[encoded data removed]"
      }
     ], 
     "prompt_number": 18
    }, 
    {
     "cell_type": "code", 
     "collapsed": false, 
     "input": [], 
     "language": "python", 
     "outputs": [
      {
       "ename": "NameError", 
       "evalue": "name 't' is not defined", 
       "output_type": "pyerr", 
       "traceback": [
        "\u001b[0;31m---------------------------------------------------------------------------\u001b[0m\n\u001b[0;31mNameError\u001b[0m                                 Traceback (most recent call last)", 
        "\u001b[0;32m/tmp/guest-L0U58j/<ipython-input-7-534558d31393>\u001b[0m in \u001b[0;36m<module>\u001b[0;34m()\u001b[0m\n\u001b[0;32m----> 1\u001b[0;31m \u001b[0mplot\u001b[0m\u001b[0;34m(\u001b[0m\u001b[0mt\u001b[0m\u001b[0;34m,\u001b[0m\u001b[0mP\u001b[0m\u001b[0;34m)\u001b[0m\u001b[0;34m\u001b[0m\u001b[0m\n\u001b[0m", 
        "\u001b[0;31mNameError\u001b[0m: name 't' is not defined"
       ]
      }
     ], 
     "prompt_number": 7
    }, 
    {
     "cell_type": "code", 
     "collapsed": true, 
     "input": [], 
     "language": "python", 
     "outputs": []
    }
   ]
  }
 ]
}